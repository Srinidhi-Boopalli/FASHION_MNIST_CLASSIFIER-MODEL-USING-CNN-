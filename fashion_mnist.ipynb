{
  "nbformat": 4,
  "nbformat_minor": 0,
  "metadata": {
    "colab": {
      "provenance": []
    },
    "kernelspec": {
      "name": "python3",
      "display_name": "Python 3"
    },
    "language_info": {
      "name": "python"
    }
  },
  "cells": [
    {
      "cell_type": "code",
      "execution_count": 1,
      "metadata": {
        "id": "BNfic78L3LLC"
      },
      "outputs": [],
      "source": [
        "import random\n",
        "random.seed(0)\n",
        "import numpy as np\n",
        "np.random.seed(0)\n",
        "import tensorflow as tf\n",
        "tf.random.set_seed(0)\n",
        "import matplotlib.pyplot as plt\n",
        "from tensorflow.keras import datasets , layers , models"
      ]
    },
    {
      "cell_type": "code",
      "source": [
        "fashion_mnist = datasets.fashion_mnist\n",
        "(x_train, y_train), (x_test, y_test) = fashion_mnist.load_data()"
      ],
      "metadata": {
        "colab": {
          "base_uri": "https://localhost:8080/"
        },
        "id": "MLmq3w7W3ynm",
        "outputId": "8eacb237-055a-42d1-baad-ac29a2260041"
      },
      "execution_count": 2,
      "outputs": [
        {
          "output_type": "stream",
          "name": "stdout",
          "text": [
            "Downloading data from https://storage.googleapis.com/tensorflow/tf-keras-datasets/train-labels-idx1-ubyte.gz\n",
            "\u001b[1m29515/29515\u001b[0m \u001b[32m━━━━━━━━━━━━━━━━━━━━\u001b[0m\u001b[37m\u001b[0m \u001b[1m0s\u001b[0m 0us/step\n",
            "Downloading data from https://storage.googleapis.com/tensorflow/tf-keras-datasets/train-images-idx3-ubyte.gz\n",
            "\u001b[1m26421880/26421880\u001b[0m \u001b[32m━━━━━━━━━━━━━━━━━━━━\u001b[0m\u001b[37m\u001b[0m \u001b[1m0s\u001b[0m 0us/step\n",
            "Downloading data from https://storage.googleapis.com/tensorflow/tf-keras-datasets/t10k-labels-idx1-ubyte.gz\n",
            "\u001b[1m5148/5148\u001b[0m \u001b[32m━━━━━━━━━━━━━━━━━━━━\u001b[0m\u001b[37m\u001b[0m \u001b[1m0s\u001b[0m 0us/step\n",
            "Downloading data from https://storage.googleapis.com/tensorflow/tf-keras-datasets/t10k-images-idx3-ubyte.gz\n",
            "\u001b[1m4422102/4422102\u001b[0m \u001b[32m━━━━━━━━━━━━━━━━━━━━\u001b[0m\u001b[37m\u001b[0m \u001b[1m0s\u001b[0m 0us/step\n"
          ]
        }
      ]
    },
    {
      "cell_type": "code",
      "source": [
        "x_train.shape"
      ],
      "metadata": {
        "colab": {
          "base_uri": "https://localhost:8080/"
        },
        "id": "9rOjX4Nh4MWN",
        "outputId": "84d0a998-2b34-4ae0-c0af-3f31f19f50a2"
      },
      "execution_count": 4,
      "outputs": [
        {
          "output_type": "execute_result",
          "data": {
            "text/plain": [
              "(60000, 28, 28)"
            ]
          },
          "metadata": {},
          "execution_count": 4
        }
      ]
    },
    {
      "cell_type": "code",
      "source": [
        "y_train.shape"
      ],
      "metadata": {
        "colab": {
          "base_uri": "https://localhost:8080/"
        },
        "id": "RdWyd1DJ4bzy",
        "outputId": "fe4f4baf-c8e0-466d-ceec-b1787c674918"
      },
      "execution_count": 5,
      "outputs": [
        {
          "output_type": "execute_result",
          "data": {
            "text/plain": [
              "(60000,)"
            ]
          },
          "metadata": {},
          "execution_count": 5
        }
      ]
    },
    {
      "cell_type": "code",
      "source": [
        "x_test.shape"
      ],
      "metadata": {
        "colab": {
          "base_uri": "https://localhost:8080/"
        },
        "id": "xk5rqpwY4jRN",
        "outputId": "46fb1567-f020-481a-8559-a0a4e7d7c837"
      },
      "execution_count": 6,
      "outputs": [
        {
          "output_type": "execute_result",
          "data": {
            "text/plain": [
              "(10000, 28, 28)"
            ]
          },
          "metadata": {},
          "execution_count": 6
        }
      ]
    },
    {
      "cell_type": "code",
      "source": [
        "y_test.shape"
      ],
      "metadata": {
        "colab": {
          "base_uri": "https://localhost:8080/"
        },
        "id": "Wt2mm7eM4wJv",
        "outputId": "3e715bc8-f166-463a-ecb7-4d6e66d4b8b5"
      },
      "execution_count": 7,
      "outputs": [
        {
          "output_type": "execute_result",
          "data": {
            "text/plain": [
              "(10000,)"
            ]
          },
          "metadata": {},
          "execution_count": 7
        }
      ]
    },
    {
      "cell_type": "code",
      "source": [
        "plt.imshow(x_train[1],cmap='gray')"
      ],
      "metadata": {
        "colab": {
          "base_uri": "https://localhost:8080/",
          "height": 447
        },
        "id": "H-VBU2BM4yXw",
        "outputId": "91695fd7-0d17-4bfc-b745-ca30e62801c9"
      },
      "execution_count": 11,
      "outputs": [
        {
          "output_type": "execute_result",
          "data": {
            "text/plain": [
              "<matplotlib.image.AxesImage at 0x79090f127790>"
            ]
          },
          "metadata": {},
          "execution_count": 11
        },
        {
          "output_type": "display_data",
          "data": {
            "text/plain": [
              "<Figure size 640x480 with 1 Axes>"
            ],
            "image/png": "[encoded data removed]"
          },
          "metadata": {}
        }
      ]
    },
    {
      "cell_type": "code",
      "source": [
        "np.unique(y_train)"
      ],
      "metadata": {
        "colab": {
          "base_uri": "https://localhost:8080/"
        },
        "id": "4eQj24dI42qj",
        "outputId": "d58b7175-29af-4e1c-a9da-de59304d9cf9"
      },
      "execution_count": 13,
      "outputs": [
        {
          "output_type": "execute_result",
          "data": {
            "text/plain": [
              "array([0, 1, 2, 3, 4, 5, 6, 7, 8, 9], dtype=uint8)"
            ]
          },
          "metadata": {},
          "execution_count": 13
        }
      ]
    },
    {
      "cell_type": "code",
      "source": [
        "#normalise pixel values\n",
        "x_train , x_test = x_train/255.0, x_test/255.0"
      ],
      "metadata": {
        "id": "rRUloGnx5bD5"
      },
      "execution_count": 15,
      "outputs": []
    },
    {
      "cell_type": "code",
      "source": [
        "#reshaping the images to 28*28 pixels\n",
        "x_train = x_train.reshape((x_train.shape[0], 28,28,1))\n",
        "x_test = x_test.reshape((x_test.shape[0], 28,28,1))"
      ],
      "metadata": {
        "id": "Jv0wTUEP7hTr"
      },
      "execution_count": 16,
      "outputs": []
    },
    {
      "cell_type": "code",
      "source": [
        "model = models.Sequential()\n",
        "model.add(layers.Conv2D(32, (3, 3), activation='relu', input_shape=(28, 28, 1)))\n",
        "model.add(layers.MaxPooling2D((2, 2)))\n",
        "model.add(layers.Conv2D(64, (3, 3), activation='relu'))\n",
        "model.add(layers.MaxPooling2D((2, 2)))\n",
        "model.add(layers.Conv2D(64, (3, 3), activation='relu'))\n",
        "model.add(layers.Flatten())\n",
        "model.add(layers.Dense(64, activation='relu'))\n",
        "model.add(layers.Dense(10))"
      ],
      "metadata": {
        "colab": {
          "base_uri": "https://localhost:8080/"
        },
        "id": "fvVshWGU8MR0",
        "outputId": "1d1d70be-a9a0-4e0c-aa14-9a239ee5cb8e"
      },
      "execution_count": 17,
      "outputs": [
        {
          "output_type": "stream",
          "name": "stderr",
          "text": [
            "/usr/local/lib/python3.10/dist-packages/keras/src/layers/convolutional/base_conv.py:107: UserWarning: Do not pass an `input_shape`/`input_dim` argument to a layer. When using Sequential models, prefer using an `Input(shape)` object as the first layer in the model instead.\n",
            "  super().__init__(activity_regularizer=activity_regularizer, **kwargs)\n"
          ]
        }
      ]
    },
    {
      "cell_type": "code",
      "source": [
        "#compiling the model\n",
        "model.compile(optimizer='adam',loss=tf.keras.losses.SparseCategoricalCrossentropy(from_logits=True),metrics=['accuracy'])"
      ],
      "metadata": {
        "id": "sxWKNAQZ8GCa"
      },
      "execution_count": 19,
      "outputs": []
    },
    {
      "cell_type": "code",
      "source": [
        "#model training\n",
        "history = model.fit(x_train, y_train ,epochs=5, validation_data=(x_test, y_test))"
      ],
      "metadata": {
        "colab": {
          "base_uri": "https://localhost:8080/"
        },
        "id": "-P5iScPc9v7H",
        "outputId": "2216fe2a-e679-4d90-9ddb-086d16e234d8"
      },
      "execution_count": 20,
      "outputs": [
        {
          "output_type": "stream",
          "name": "stdout",
          "text": [
            "Epoch 1/5\n",
            "\u001b[1m1875/1875\u001b[0m \u001b[32m━━━━━━━━━━━━━━━━━━━━\u001b[0m\u001b[37m\u001b[0m \u001b[1m74s\u001b[0m 38ms/step - accuracy: 0.7483 - loss: 0.6959 - val_accuracy: 0.8677 - val_loss: 0.3658\n",
            "Epoch 2/5\n",
            "\u001b[1m1875/1875\u001b[0m \u001b[32m━━━━━━━━━━━━━━━━━━━━\u001b[0m\u001b[37m\u001b[0m \u001b[1m77s\u001b[0m 36ms/step - accuracy: 0.8776 - loss: 0.3373 - val_accuracy: 0.8869 - val_loss: 0.3185\n",
            "Epoch 3/5\n",
            "\u001b[1m1875/1875\u001b[0m \u001b[32m━━━━━━━━━━━━━━━━━━━━\u001b[0m\u001b[37m\u001b[0m \u001b[1m83s\u001b[0m 36ms/step - accuracy: 0.8967 - loss: 0.2833 - val_accuracy: 0.8920 - val_loss: 0.2962\n",
            "Epoch 4/5\n",
            "\u001b[1m1875/1875\u001b[0m \u001b[32m━━━━━━━━━━━━━━━━━━━━\u001b[0m\u001b[37m\u001b[0m \u001b[1m81s\u001b[0m 36ms/step - accuracy: 0.9088 - loss: 0.2474 - val_accuracy: 0.8975 - val_loss: 0.2877\n",
            "Epoch 5/5\n",
            "\u001b[1m1875/1875\u001b[0m \u001b[32m━━━━━━━━━━━━━━━━━━━━\u001b[0m\u001b[37m\u001b[0m \u001b[1m81s\u001b[0m 35ms/step - accuracy: 0.9172 - loss: 0.2211 - val_accuracy: 0.8996 - val_loss: 0.2816\n"
          ]
        }
      ]
    },
    {
      "cell_type": "code",
      "source": [
        "#evaluate model\n",
        "test_loss, test_acc = model.evaluate(x_test,  y_test, verbose=2)\n",
        "print(test_acc)"
      ],
      "metadata": {
        "colab": {
          "base_uri": "https://localhost:8080/"
        },
        "id": "OUX4XveJ-Lz8",
        "outputId": "f3a79c0b-aba8-47b4-c824-2687309722d7"
      },
      "execution_count": 21,
      "outputs": [
        {
          "output_type": "stream",
          "name": "stdout",
          "text": [
            "313/313 - 3s - 8ms/step - accuracy: 0.8996 - loss: 0.2816\n",
            "0.8996000289916992\n"
          ]
        }
      ]
    },
    {
      "cell_type": "code",
      "source": [
        "plt.plot(history.history['accuracy'], label='accuracy')\n",
        "plt.plot(history.history['val_accuracy'], label = 'val_accuracy')\n",
        "plt.xlabel('Epoch')\n",
        "plt.ylabel('Accuracy')\n",
        "plt.ylim([0.5, 1])\n",
        "plt.legend(['Train', 'Test'], loc='upper left')\n",
        "plt.show()\n",
        "plt.plot(history.history['loss'], label='loss')\n",
        "plt.plot(history.history['val_loss'], label = 'val_loss')\n",
        "plt.xlabel('Epoch')\n",
        "plt.ylabel('Loss')\n",
        "plt.legend(['Train', 'Test'], loc='upper left')\n",
        "plt.legend"
      ],
      "metadata": {
        "colab": {
          "base_uri": "https://localhost:8080/",
          "height": 1000
        },
        "id": "ZqwGSDrrAA9g",
        "outputId": "6fe74d03-b644-4d92-b861-769f9dddacd5"
      },
      "execution_count": 22,
      "outputs": [
        {
          "output_type": "display_data",
          "data": {
            "text/plain": [
              "<Figure size 640x480 with 1 Axes>"
            ],
            "image/png": "[encoded data removed]"
          },
          "metadata": {}
        },
        {
          "output_type": "execute_result",
          "data": {
            "text/plain": [
              "<function matplotlib.pyplot.legend(*args, **kwargs) -> 'Legend'>"
            ],
            "text/html": [
              "<div style=\"max-width:800px; border: 1px solid var(--colab-border-color);\"><style>\n",
              "      pre.function-repr-contents {\n",
              "        overflow-x: auto;\n",
              "        padding: 8px 12px;\n",
              "        max-height: 500px;\n",
              "      }\n",
              "\n",
              "      pre.function-repr-contents.function-repr-contents-collapsed {\n",
              "        cursor: pointer;\n",
              "        max-height: 100px;\n",
              "      }\n",
              "    </style>\n",
              "    <pre style=\"white-space: initial; background:\n",
              "         var(--colab-secondary-surface-color); padding: 8px 12px;\n",
              "         border-bottom: 1px solid var(--colab-border-color);\"><b>matplotlib.pyplot.legend</b><br/>def legend(*args, **kwargs) -&gt; Legend</pre><pre class=\"function-repr-contents function-repr-contents-collapsed\" style=\"\"><a class=\"filepath\" style=\"display:none\" href=\"#\">/usr/local/lib/python3.10/dist-packages/matplotlib/pyplot.py</a>Place a legend on the Axes.\n",
              "\n",
              "Call signatures::\n",
              "\n",
              "    legend()\n",
              "    legend(handles, labels)\n",
              "    legend(handles=handles)\n",
              "    legend(labels)\n",
              "\n",
              "The call signatures correspond to the following different ways to use\n",
              "this method:\n",
              "\n",
              "**1. Automatic detection of elements to be shown in the legend**\n",
              "\n",
              "The elements to be added to the legend are automatically determined,\n",
              "when you do not pass in any extra arguments.\n",
              "\n",
              "In this case, the labels are taken from the artist. You can specify\n",
              "them either at artist creation or by calling the\n",
              ":meth:`~.Artist.set_label` method on the artist::\n",
              "\n",
              "    ax.plot([1, 2, 3], label=&#x27;Inline label&#x27;)\n",
              "    ax.legend()\n",
              "\n",
              "or::\n",
              "\n",
              "    line, = ax.plot([1, 2, 3])\n",
              "    line.set_label(&#x27;Label via method&#x27;)\n",
              "    ax.legend()\n",
              "\n",
              ".. note::\n",
              "    Specific artists can be excluded from the automatic legend element\n",
              "    selection by using a label starting with an underscore, &quot;_&quot;.\n",
              "    A string starting with an underscore is the default label for all\n",
              "    artists, so calling `.Axes.legend` without any arguments and\n",
              "    without setting the labels manually will result in no legend being\n",
              "    drawn.\n",
              "\n",
              "\n",
              "**2. Explicitly listing the artists and labels in the legend**\n",
              "\n",
              "For full control of which artists have a legend entry, it is possible\n",
              "to pass an iterable of legend artists followed by an iterable of\n",
              "legend labels respectively::\n",
              "\n",
              "    ax.legend([line1, line2, line3], [&#x27;label1&#x27;, &#x27;label2&#x27;, &#x27;label3&#x27;])\n",
              "\n",
              "\n",
              "**3. Explicitly listing the artists in the legend**\n",
              "\n",
              "This is similar to 2, but the labels are taken from the artists&#x27;\n",
              "label properties. Example::\n",
              "\n",
              "    line1, = ax.plot([1, 2, 3], label=&#x27;label1&#x27;)\n",
              "    line2, = ax.plot([1, 2, 3], label=&#x27;label2&#x27;)\n",
              "    ax.legend(handles=[line1, line2])\n",
              "\n",
              "\n",
              "**4. Labeling existing plot elements**\n",
              "\n",
              ".. admonition:: Discouraged\n",
              "\n",
              "    This call signature is discouraged, because the relation between\n",
              "    plot elements and labels is only implicit by their order and can\n",
              "    easily be mixed up.\n",
              "\n",
              "To make a legend for all artists on an Axes, call this function with\n",
              "an iterable of strings, one for each legend item. For example::\n",
              "\n",
              "    ax.plot([1, 2, 3])\n",
              "    ax.plot([5, 6, 7])\n",
              "    ax.legend([&#x27;First line&#x27;, &#x27;Second line&#x27;])\n",
              "\n",
              "\n",
              "Parameters\n",
              "----------\n",
              "handles : sequence of (`.Artist` or tuple of `.Artist`), optional\n",
              "    A list of Artists (lines, patches) to be added to the legend.\n",
              "    Use this together with *labels*, if you need full control on what\n",
              "    is shown in the legend and the automatic mechanism described above\n",
              "    is not sufficient.\n",
              "\n",
              "    The length of handles and labels should be the same in this\n",
              "    case. If they are not, they are truncated to the smaller length.\n",
              "\n",
              "    If an entry contains a tuple, then the legend handler for all Artists in the\n",
              "    tuple will be placed alongside a single label.\n",
              "\n",
              "labels : list of str, optional\n",
              "    A list of labels to show next to the artists.\n",
              "    Use this together with *handles*, if you need full control on what\n",
              "    is shown in the legend and the automatic mechanism described above\n",
              "    is not sufficient.\n",
              "\n",
              "Returns\n",
              "-------\n",
              "`~matplotlib.legend.Legend`\n",
              "\n",
              "Other Parameters\n",
              "----------------\n",
              "\n",
              "loc : str or pair of floats, default: :rc:`legend.loc`\n",
              "    The location of the legend.\n",
              "\n",
              "    The strings ``&#x27;upper left&#x27;``, ``&#x27;upper right&#x27;``, ``&#x27;lower left&#x27;``,\n",
              "    ``&#x27;lower right&#x27;`` place the legend at the corresponding corner of the\n",
              "    axes.\n",
              "\n",
              "    The strings ``&#x27;upper center&#x27;``, ``&#x27;lower center&#x27;``, ``&#x27;center left&#x27;``,\n",
              "    ``&#x27;center right&#x27;`` place the legend at the center of the corresponding edge\n",
              "    of the axes.\n",
              "\n",
              "    The string ``&#x27;center&#x27;`` places the legend at the center of the axes.\n",
              "\n",
              "    The string ``&#x27;best&#x27;`` places the legend at the location, among the nine\n",
              "    locations defined so far, with the minimum overlap with other drawn\n",
              "    artists.  This option can be quite slow for plots with large amounts of\n",
              "    data; your plotting speed may benefit from providing a specific location.\n",
              "\n",
              "    The location can also be a 2-tuple giving the coordinates of the lower-left\n",
              "    corner of the legend in axes coordinates (in which case *bbox_to_anchor*\n",
              "    will be ignored).\n",
              "\n",
              "    For back-compatibility, ``&#x27;center right&#x27;`` (but no other location) can also\n",
              "    be spelled ``&#x27;right&#x27;``, and each &quot;string&quot; location can also be given as a\n",
              "    numeric value:\n",
              "\n",
              "    ==================   =============\n",
              "    Location String      Location Code\n",
              "    ==================   =============\n",
              "    &#x27;best&#x27; (Axes only)   0\n",
              "    &#x27;upper right&#x27;        1\n",
              "    &#x27;upper left&#x27;         2\n",
              "    &#x27;lower left&#x27;         3\n",
              "    &#x27;lower right&#x27;        4\n",
              "    &#x27;right&#x27;              5\n",
              "    &#x27;center left&#x27;        6\n",
              "    &#x27;center right&#x27;       7\n",
              "    &#x27;lower center&#x27;       8\n",
              "    &#x27;upper center&#x27;       9\n",
              "    &#x27;center&#x27;             10\n",
              "    ==================   =============\n",
              "    \n",
              "bbox_to_anchor : `.BboxBase`, 2-tuple, or 4-tuple of floats\n",
              "    Box that is used to position the legend in conjunction with *loc*.\n",
              "    Defaults to `axes.bbox` (if called as a method to `.Axes.legend`) or\n",
              "    `figure.bbox` (if `.Figure.legend`).  This argument allows arbitrary\n",
              "    placement of the legend.\n",
              "\n",
              "    Bbox coordinates are interpreted in the coordinate system given by\n",
              "    *bbox_transform*, with the default transform\n",
              "    Axes or Figure coordinates, depending on which ``legend`` is called.\n",
              "\n",
              "    If a 4-tuple or `.BboxBase` is given, then it specifies the bbox\n",
              "    ``(x, y, width, height)`` that the legend is placed in.\n",
              "    To put the legend in the best location in the bottom right\n",
              "    quadrant of the axes (or figure)::\n",
              "\n",
              "        loc=&#x27;best&#x27;, bbox_to_anchor=(0.5, 0., 0.5, 0.5)\n",
              "\n",
              "    A 2-tuple ``(x, y)`` places the corner of the legend specified by *loc* at\n",
              "    x, y.  For example, to put the legend&#x27;s upper right-hand corner in the\n",
              "    center of the axes (or figure) the following keywords can be used::\n",
              "\n",
              "        loc=&#x27;upper right&#x27;, bbox_to_anchor=(0.5, 0.5)\n",
              "\n",
              "ncols : int, default: 1\n",
              "    The number of columns that the legend has.\n",
              "\n",
              "    For backward compatibility, the spelling *ncol* is also supported\n",
              "    but it is discouraged. If both are given, *ncols* takes precedence.\n",
              "\n",
              "prop : None or `~matplotlib.font_manager.FontProperties` or dict\n",
              "    The font properties of the legend. If None (default), the current\n",
              "    :data:`matplotlib.rcParams` will be used.\n",
              "\n",
              "fontsize : int or {&#x27;xx-small&#x27;, &#x27;x-small&#x27;, &#x27;small&#x27;, &#x27;medium&#x27;, &#x27;large&#x27;, &#x27;x-large&#x27;, &#x27;xx-large&#x27;}\n",
              "    The font size of the legend. If the value is numeric the size will be the\n",
              "    absolute font size in points. String values are relative to the current\n",
              "    default font size. This argument is only used if *prop* is not specified.\n",
              "\n",
              "labelcolor : str or list, default: :rc:`legend.labelcolor`\n",
              "    The color of the text in the legend. Either a valid color string\n",
              "    (for example, &#x27;red&#x27;), or a list of color strings. The labelcolor can\n",
              "    also be made to match the color of the line or marker using &#x27;linecolor&#x27;,\n",
              "    &#x27;markerfacecolor&#x27; (or &#x27;mfc&#x27;), or &#x27;markeredgecolor&#x27; (or &#x27;mec&#x27;).\n",
              "\n",
              "    Labelcolor can be set globally using :rc:`legend.labelcolor`. If None,\n",
              "    use :rc:`text.color`.\n",
              "\n",
              "numpoints : int, default: :rc:`legend.numpoints`\n",
              "    The number of marker points in the legend when creating a legend\n",
              "    entry for a `.Line2D` (line).\n",
              "\n",
              "scatterpoints : int, default: :rc:`legend.scatterpoints`\n",
              "    The number of marker points in the legend when creating\n",
              "    a legend entry for a `.PathCollection` (scatter plot).\n",
              "\n",
              "scatteryoffsets : iterable of floats, default: ``[0.375, 0.5, 0.3125]``\n",
              "    The vertical offset (relative to the font size) for the markers\n",
              "    created for a scatter plot legend entry. 0.0 is at the base the\n",
              "    legend text, and 1.0 is at the top. To draw all markers at the\n",
              "    same height, set to ``[0.5]``.\n",
              "\n",
              "markerscale : float, default: :rc:`legend.markerscale`\n",
              "    The relative size of legend markers compared to the originally drawn ones.\n",
              "\n",
              "markerfirst : bool, default: True\n",
              "    If *True*, legend marker is placed to the left of the legend label.\n",
              "    If *False*, legend marker is placed to the right of the legend label.\n",
              "\n",
              "reverse : bool, default: False\n",
              "    If *True*, the legend labels are displayed in reverse order from the input.\n",
              "    If *False*, the legend labels are displayed in the same order as the input.\n",
              "\n",
              "    .. versionadded:: 3.7\n",
              "\n",
              "frameon : bool, default: :rc:`legend.frameon`\n",
              "    Whether the legend should be drawn on a patch (frame).\n",
              "\n",
              "fancybox : bool, default: :rc:`legend.fancybox`\n",
              "    Whether round edges should be enabled around the `.FancyBboxPatch` which\n",
              "    makes up the legend&#x27;s background.\n",
              "\n",
              "shadow : None, bool or dict, default: :rc:`legend.shadow`\n",
              "    Whether to draw a shadow behind the legend.\n",
              "    The shadow can be configured using `.Patch` keywords.\n",
              "    Customization via :rc:`legend.shadow` is currently not supported.\n",
              "\n",
              "framealpha : float, default: :rc:`legend.framealpha`\n",
              "    The alpha transparency of the legend&#x27;s background.\n",
              "    If *shadow* is activated and *framealpha* is ``None``, the default value is\n",
              "    ignored.\n",
              "\n",
              "facecolor : &quot;inherit&quot; or color, default: :rc:`legend.facecolor`\n",
              "    The legend&#x27;s background color.\n",
              "    If ``&quot;inherit&quot;``, use :rc:`axes.facecolor`.\n",
              "\n",
              "edgecolor : &quot;inherit&quot; or color, default: :rc:`legend.edgecolor`\n",
              "    The legend&#x27;s background patch edge color.\n",
              "    If ``&quot;inherit&quot;``, use take :rc:`axes.edgecolor`.\n",
              "\n",
              "mode : {&quot;expand&quot;, None}\n",
              "    If *mode* is set to ``&quot;expand&quot;`` the legend will be horizontally\n",
              "    expanded to fill the axes area (or *bbox_to_anchor* if defines\n",
              "    the legend&#x27;s size).\n",
              "\n",
              "bbox_transform : None or `~matplotlib.transforms.Transform`\n",
              "    The transform for the bounding box (*bbox_to_anchor*). For a value\n",
              "    of ``None`` (default) the Axes&#x27;\n",
              "    :data:`~matplotlib.axes.Axes.transAxes` transform will be used.\n",
              "\n",
              "title : str or None\n",
              "    The legend&#x27;s title. Default is no title (``None``).\n",
              "\n",
              "title_fontproperties : None or `~matplotlib.font_manager.FontProperties` or dict\n",
              "    The font properties of the legend&#x27;s title. If None (default), the\n",
              "    *title_fontsize* argument will be used if present; if *title_fontsize* is\n",
              "    also None, the current :rc:`legend.title_fontsize` will be used.\n",
              "\n",
              "title_fontsize : int or {&#x27;xx-small&#x27;, &#x27;x-small&#x27;, &#x27;small&#x27;, &#x27;medium&#x27;, &#x27;large&#x27;, &#x27;x-large&#x27;, &#x27;xx-large&#x27;}, default: :rc:`legend.title_fontsize`\n",
              "    The font size of the legend&#x27;s title.\n",
              "    Note: This cannot be combined with *title_fontproperties*. If you want\n",
              "    to set the fontsize alongside other font properties, use the *size*\n",
              "    parameter in *title_fontproperties*.\n",
              "\n",
              "alignment : {&#x27;center&#x27;, &#x27;left&#x27;, &#x27;right&#x27;}, default: &#x27;center&#x27;\n",
              "    The alignment of the legend title and the box of entries. The entries\n",
              "    are aligned as a single block, so that markers always lined up.\n",
              "\n",
              "borderpad : float, default: :rc:`legend.borderpad`\n",
              "    The fractional whitespace inside the legend border, in font-size units.\n",
              "\n",
              "labelspacing : float, default: :rc:`legend.labelspacing`\n",
              "    The vertical space between the legend entries, in font-size units.\n",
              "\n",
              "handlelength : float, default: :rc:`legend.handlelength`\n",
              "    The length of the legend handles, in font-size units.\n",
              "\n",
              "handleheight : float, default: :rc:`legend.handleheight`\n",
              "    The height of the legend handles, in font-size units.\n",
              "\n",
              "handletextpad : float, default: :rc:`legend.handletextpad`\n",
              "    The pad between the legend handle and text, in font-size units.\n",
              "\n",
              "borderaxespad : float, default: :rc:`legend.borderaxespad`\n",
              "    The pad between the axes and legend border, in font-size units.\n",
              "\n",
              "columnspacing : float, default: :rc:`legend.columnspacing`\n",
              "    The spacing between columns, in font-size units.\n",
              "\n",
              "handler_map : dict or None\n",
              "    The custom dictionary mapping instances or types to a legend\n",
              "    handler. This *handler_map* updates the default handler map\n",
              "    found at `matplotlib.legend.Legend.get_legend_handler_map`.\n",
              "\n",
              "draggable : bool, default: False\n",
              "    Whether the legend can be dragged with the mouse.\n",
              "\n",
              "\n",
              "See Also\n",
              "--------\n",
              ".Figure.legend\n",
              "\n",
              "Notes\n",
              "-----\n",
              "Some artists are not supported by this function.  See\n",
              ":ref:`legend_guide` for details.\n",
              "\n",
              "Examples\n",
              "--------\n",
              ".. plot:: gallery/text_labels_and_annotations/legend.py</pre>\n",
              "      <script>\n",
              "      if (google.colab.kernel.accessAllowed && google.colab.files && google.colab.files.view) {\n",
              "        for (const element of document.querySelectorAll('.filepath')) {\n",
              "          element.style.display = 'block'\n",
              "          element.onclick = (event) => {\n",
              "            event.preventDefault();\n",
              "            event.stopPropagation();\n",
              "            google.colab.files.view(element.textContent, 3370);\n",
              "          };\n",
              "        }\n",
              "      }\n",
              "      for (const element of document.querySelectorAll('.function-repr-contents')) {\n",
              "        element.onclick = (event) => {\n",
              "          event.preventDefault();\n",
              "          event.stopPropagation();\n",
              "          element.classList.toggle('function-repr-contents-collapsed');\n",
              "        };\n",
              "      }\n",
              "      </script>\n",
              "      </div>"
            ]
          },
          "metadata": {},
          "execution_count": 22
        },
        {
          "output_type": "display_data",
          "data": {
            "text/plain": [
              "<Figure size 640x480 with 1 Axes>"
            ],
            "image/png": "[encoded data removed]"
          },
          "metadata": {}
        }
      ]
    },
    {
      "cell_type": "code",
      "source": [
        "model.save('fashion_mnist_model.h5')"
      ],
      "metadata": {
        "colab": {
          "base_uri": "https://localhost:8080/"
        },
        "id": "z3Epy1iFAo4t",
        "outputId": "66720842-9f85-4b7d-c5b8-c572670b0149"
      },
      "execution_count": 23,
      "outputs": [
        {
          "output_type": "stream",
          "name": "stderr",
          "text": [
            "WARNING:absl:You are saving your model as an HDF5 file via `model.save()` or `keras.saving.save_model(model)`. This file format is considered legacy. We recommend using instead the native Keras format, e.g. `model.save('my_model.keras')` or `keras.saving.save_model(model, 'my_model.keras')`. \n"
          ]
        }
      ]
    },
    {
      "cell_type": "code",
      "source": [],
      "metadata": {
        "id": "ZdyZZ3TaAya9"
      },
      "execution_count": null,
      "outputs": []
    }
  ]
}